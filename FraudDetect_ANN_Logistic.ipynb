{
 "cells": [
  {
   "cell_type": "markdown",
   "metadata": {},
   "source": [
    "# Fraud Detection using Logistic Regression and Artificial Neural network"
   ]
  },
  {
   "cell_type": "code",
   "execution_count": 21,
   "metadata": {
    "collapsed": true
   },
   "outputs": [],
   "source": [
    "import numpy as np\n",
    "import pandas as pd\n",
    "import seaborn as sns\n",
    "from sklearn.linear_model import LogisticRegression\n",
    "from sklearn.neural_network import MLPClassifier\n",
    "from sklearn.model_selection import train_test_split\n",
    "from sklearn.metrics import confusion_matrix,accuracy_score"
   ]
  },
  {
   "cell_type": "markdown",
   "metadata": {},
   "source": [
    "Load Data. Attached in the github as well"
   ]
  },
  {
   "cell_type": "code",
   "execution_count": 35,
   "metadata": {
    "scrolled": true
   },
   "outputs": [
    {
     "name": "stdout",
     "output_type": "stream",
     "text": [
      "Number of samples: 7409\n",
      "Number of attributes: 31\n"
     ]
    }
   ],
   "source": [
    "# Loading data\n",
    "df = pd.read_csv('C:\\Personal\\Courses\\ML\\dataset\\creditcard_1.csv')\n",
    "\n",
    "print(\"Number of samples: {}\".format(len(df)))\n",
    "print(\"Number of attributes: {}\".format(len(df.columns)))"
   ]
  },
  {
   "cell_type": "markdown",
   "metadata": {},
   "source": [
    "Split Training and Test Data Set"
   ]
  },
  {
   "cell_type": "code",
   "execution_count": 36,
   "metadata": {
    "collapsed": true
   },
   "outputs": [],
   "source": [
    "y = df['Class'].copy()\n",
    "X = df.copy()\n",
    "del X['Class']\n",
    "X_train, X_test, y_train, y_test = train_test_split(X, y, test_size=0.33, random_state=42)\n"
   ]
  },
  {
   "cell_type": "markdown",
   "metadata": {},
   "source": [
    "Logistic Regression Test"
   ]
  },
  {
   "cell_type": "code",
   "execution_count": 37,
   "metadata": {
    "collapsed": true
   },
   "outputs": [],
   "source": [
    "# Create logistic regression object\n",
    "c_param = 0.1 #should use cross valid to find this\n",
    "logregr = LogisticRegression(C = c_param, penalty = 'l2', class_weight ='balanced', max_iter =100)\n",
    "\n",
    "# Train the model using the training sets\n",
    "logregr.fit(X_train, y_train)\n",
    "\n",
    "# Make predictions using the testing set\n",
    "y_pred_LOGREG = logregr.predict(X_test)\n"
   ]
  },
  {
   "cell_type": "code",
   "execution_count": 42,
   "metadata": {},
   "outputs": [
    {
     "name": "stdout",
     "output_type": "stream",
     "text": [
      "0.99591002045\n",
      "[[2261    7]\n",
      " [   3  174]]\n"
     ]
    }
   ],
   "source": [
    "#accuracy and confusion matrix\n",
    "accuracy = accuracy_score (y_test, y_pred_LOGREG)\n",
    "conf_matrix = confusion_matrix(y_test, y_pred_LOGREG)\n",
    "print(accuracy)\n",
    "print(conf_matrix)"
   ]
  },
  {
   "cell_type": "markdown",
   "metadata": {},
   "source": [
    "ANN Test"
   ]
  },
  {
   "cell_type": "code",
   "execution_count": 39,
   "metadata": {
    "collapsed": true
   },
   "outputs": [],
   "source": [
    "# Create neural network object\n",
    "mlp = MLPClassifier()\n",
    "\n",
    "# Train the model using the training sets\n",
    "mlp.fit(X_train, y_train)\n",
    "\n",
    "# Make predictions using the testing set\n",
    "y_pred_ANN = mlp.predict(X_test)\n"
   ]
  },
  {
   "cell_type": "code",
   "execution_count": 41,
   "metadata": {},
   "outputs": [
    {
     "name": "stdout",
     "output_type": "stream",
     "text": [
      "0.647034764826\n",
      "[[1407  861]\n",
      " [   2  175]]\n"
     ]
    }
   ],
   "source": [
    "#accuracy and confusion matrix\n",
    "accuracy_ann = accuracy_score (y_test, y_pred_ANN)\n",
    "conf_matrix_ann = confusion_matrix(y_test, y_pred_ANN)\n",
    "print(accuracy_ann)\n",
    "print(conf_matrix_ann)"
   ]
  }
 ],
 "metadata": {
  "kernelspec": {
   "display_name": "Python 3",
   "language": "python",
   "name": "python3"
  },
  "language_info": {
   "codemirror_mode": {
    "name": "ipython",
    "version": 3
   },
   "file_extension": ".py",
   "mimetype": "text/x-python",
   "name": "python",
   "nbconvert_exporter": "python",
   "pygments_lexer": "ipython3",
   "version": "3.6.2"
  }
 },
 "nbformat": 4,
 "nbformat_minor": 2
}
